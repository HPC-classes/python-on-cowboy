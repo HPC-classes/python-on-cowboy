{
 "cells": [
  {
   "cell_type": "code",
   "execution_count": 89,
   "metadata": {
    "collapsed": false,
    "scrolled": true
   },
   "outputs": [
    {
     "name": "stdout",
     "output_type": "stream",
     "text": [
      "data/inflammation-07.csv\n",
      "mean is: \n",
      "--------\n",
      " [0.0, 0.5666666666666667, 1.0333333333333334, 1.5, 2.45, 3.0833333333333335, 3.3333333333333335, 3.783333333333333, 4.683333333333334, 5.283333333333333, 6.05, 6.283333333333333, 7.866666666666666, 7.616666666666666, 7.966666666666667, 8.366666666666667, 10.2, 10.45, 10.533333333333333, 11.266666666666667, 12.683333333333334, 11.85, 10.783333333333333, 10.35, 10.4, 9.116666666666667, 8.616666666666667, 8.483333333333333, 7.366666666666666, 6.4, 5.933333333333334, 5.233333333333333, 4.816666666666666, 4.233333333333333, 3.3, 2.95, 2.683333333333333, 1.7666666666666666, 0.9833333333333333, 0.5166666666666667]\n",
      "\n",
      "max is: \n",
      "-------\n",
      " [0.0, 1.0, 2.0, 3.0, 4.0, 5.0, 6.0, 7.0, 8.0, 9.0, 10.0, 11.0, 12.0, 13.0, 14.0, 15.0, 16.0, 17.0, 18.0, 19.0, 20.0, 19.0, 18.0, 17.0, 16.0, 15.0, 14.0, 13.0, 12.0, 11.0, 10.0, 9.0, 8.0, 7.0, 6.0, 5.0, 4.0, 3.0, 2.0, 1.0]\n",
      "\n",
      "min is: \n",
      "-------\n",
      " [0.0, 0.0, 0.0, 0.0, 1.0, 1.0, 1.0, 1.0, 2.0, 2.0, 2.0, 2.0, 3.0, 3.0, 3.0, 3.0, 4.0, 4.0, 4.0, 4.0, 5.0, 4.0, 4.0, 4.0, 4.0, 3.0, 3.0, 3.0, 3.0, 2.0, 2.0, 2.0, 2.0, 1.0, 1.0, 1.0, 1.0, 0.0, 0.0, 0.0] \n",
      "\n",
      "\n",
      "data/inflammation-02.csv\n",
      "mean is: \n",
      "--------\n",
      " [0.0, 0.5, 0.9333333333333333, 1.5833333333333333, 2.6333333333333333, 2.6666666666666665, 3.5833333333333335, 4.133333333333334, 4.783333333333333, 5.633333333333334, 6.216666666666667, 6.5, 7.3, 7.566666666666666, 8.083333333333334, 9.3, 9.433333333333334, 10.05, 10.45, 11.516666666666667, 12.716666666666667, 11.116666666666667, 10.8, 10.0, 10.233333333333333, 8.866666666666667, 8.033333333333333, 8.2, 7.6, 6.433333333333334, 6.133333333333334, 5.55, 4.966666666666667, 3.6666666666666665, 3.8333333333333335, 2.9833333333333334, 2.466666666666667, 1.5, 1.1333333333333333, 0.5333333333333333]\n",
      "\n",
      "max is: \n",
      "-------\n",
      " [0.0, 1.0, 2.0, 3.0, 4.0, 5.0, 6.0, 7.0, 8.0, 9.0, 10.0, 11.0, 12.0, 13.0, 14.0, 15.0, 16.0, 17.0, 18.0, 19.0, 20.0, 19.0, 18.0, 17.0, 16.0, 15.0, 14.0, 13.0, 12.0, 11.0, 10.0, 9.0, 8.0, 7.0, 6.0, 5.0, 4.0, 3.0, 2.0, 1.0]\n",
      "\n",
      "min is: \n",
      "-------\n",
      " [0.0, 0.0, 0.0, 0.0, 1.0, 1.0, 1.0, 1.0, 2.0, 2.0, 2.0, 2.0, 3.0, 3.0, 3.0, 3.0, 4.0, 4.0, 4.0, 4.0, 5.0, 4.0, 4.0, 4.0, 4.0, 3.0, 3.0, 3.0, 3.0, 2.0, 2.0, 2.0, 2.0, 1.0, 1.0, 1.0, 1.0, 0.0, 0.0, 0.0] \n",
      "\n",
      "\n",
      "data/inflammation-05.csv\n",
      "mean is: \n",
      "--------\n",
      " [0.0, 0.36666666666666664, 1.05, 1.4666666666666666, 2.566666666666667, 3.0833333333333335, 4.0, 3.783333333333333, 4.7, 5.316666666666666, 6.216666666666667, 6.466666666666667, 7.883333333333334, 8.533333333333333, 8.983333333333333, 8.733333333333333, 9.4, 10.633333333333333, 11.683333333333334, 12.1, 11.85, 11.85, 10.5, 10.8, 9.833333333333334, 9.183333333333334, 9.033333333333333, 7.433333333333334, 7.216666666666667, 6.366666666666666, 5.733333333333333, 6.15, 5.383333333333334, 4.133333333333334, 3.65, 3.1166666666666667, 2.783333333333333, 1.3, 0.9, 0.55]\n",
      "\n",
      "max is: \n",
      "-------\n",
      " [0.0, 1.0, 2.0, 3.0, 4.0, 5.0, 6.0, 7.0, 8.0, 9.0, 10.0, 11.0, 12.0, 13.0, 14.0, 15.0, 16.0, 17.0, 18.0, 19.0, 20.0, 19.0, 18.0, 17.0, 16.0, 15.0, 14.0, 13.0, 12.0, 11.0, 10.0, 9.0, 8.0, 7.0, 6.0, 5.0, 4.0, 3.0, 2.0, 1.0]\n",
      "\n",
      "min is: \n",
      "-------\n",
      " [0.0, 0.0, 0.0, 0.0, 1.0, 1.0, 1.0, 1.0, 2.0, 2.0, 2.0, 2.0, 3.0, 3.0, 3.0, 3.0, 4.0, 4.0, 4.0, 4.0, 5.0, 4.0, 4.0, 4.0, 4.0, 3.0, 3.0, 3.0, 3.0, 2.0, 2.0, 2.0, 2.0, 1.0, 1.0, 1.0, 1.0, 0.0, 0.0, 0.0] \n",
      "\n",
      "\n",
      "\n",
      "\n",
      "\n",
      "\n",
      "*_*_*_*_*_*_*_*_*_*_*_*_*_*_*_*_*_*_*\n",
      "\n",
      "Overall Data by Day:\n",
      "\n",
      "\n",
      "mean is: \n",
      "--------\n",
      " [  0.           0.47777778   1.00555556   1.51666667   2.55         2.94444444\n",
      "   3.63888889   3.9          4.72222222   5.41111111   6.16111111\n",
      "   6.41666667   7.68333333   7.90555556   8.34444444   8.8          9.67777778\n",
      "  10.37777778  10.88888889  11.62777778  12.41666667  11.60555556\n",
      "  10.69444444  10.38333333  10.15555556   9.05555556   8.56111111\n",
      "   8.03888889   7.39444444   6.4          5.93333333   5.64444444\n",
      "   5.05555556   4.01111111   3.59444444   3.01666667   2.64444444\n",
      "   1.52222222   1.00555556   0.53333333]\n",
      "\n",
      "max is: \n",
      "-------\n",
      " [  0.   1.   2.   3.   4.   5.   6.   7.   8.   9.  10.  11.  12.  13.  14.\n",
      "  15.  16.  17.  18.  19.  20.  19.  18.  17.  16.  15.  14.  13.  12.  11.\n",
      "  10.   9.   8.   7.   6.   5.   4.   3.   2.   1.]\n",
      "\n",
      "min is: \n",
      "-------\n",
      " [ 0.  0.  0.  0.  1.  1.  1.  1.  2.  2.  2.  2.  3.  3.  3.  3.  4.  4.\n",
      "  4.  4.  5.  4.  4.  4.  4.  3.  3.  3.  3.  2.  2.  2.  2.  1.  1.  1.\n",
      "  1.  0.  0.  0.] \n",
      "\n",
      "\n"
     ]
    }
   ],
   "source": [
    "# goal: calculate the average, max, and min inflammation per day\n",
    "# across all patients \n",
    "import numpy\n",
    "import glob\n",
    "\n",
    "#get file names for all the data files\n",
    "filenames = glob.glob('data/inflammation*.csv')\n",
    "filenames = filenames[0:]\n",
    "\n",
    "#setup lists for holding accumulated data\n",
    "alldatamean = list()\n",
    "alldatamax = list()\n",
    "alldatamin = list()\n",
    "\n",
    "for f in filenames:\n",
    "    #import data and show status\n",
    "    print(f)\n",
    "    data = numpy.loadtxt(fname=f, delimiter=',')\n",
    "    \n",
    "    #convert data from arrays to lists so can append later\n",
    "    meanAsList = data.mean(axis=0).tolist()\n",
    "    maxAsList = data.max(axis=0).tolist()\n",
    "    minAsList = data.min(axis=0).tolist()\n",
    "    \n",
    "    #print data for each specific file\n",
    "    print(\"mean is:\",'\\n--------\\n', meanAsList)\n",
    "    print(\"\\nmax is:\",'\\n-------\\n', maxAsList)\n",
    "    print(\"\\nmin is:\",'\\n-------\\n', minAsList, '\\n\\n')\n",
    "    \n",
    "    #append this file's data to the overall data\n",
    "    alldatamean.append(meanAsList)\n",
    "    alldatamax.append(maxAsList)\n",
    "    alldatamin.append(minAsList)\n",
    "    \n",
    "#change back into array in order to enjoy numpy goodness\n",
    "alldatamean = numpy.array(alldatamean)\n",
    "alldatamax = numpy.array(alldatamax)\n",
    "alldatamin = numpy.array(alldatamin)\n",
    "\n",
    "#output overall data\n",
    "print(\"\\n\\n\\n\\n*_*_*_*_*_*_*_*_*_*_*_*_*_*_*_*_*_*_*\\n\")\n",
    "print(\"Overall Data by Day:\\n\\n\")\n",
    "\n",
    "'''\n",
    "WARNING: This average only works because there are exactly\n",
    "60 patients in every data file. If the number of patients\n",
    "in each data file is not exactly the same, or if the \n",
    "number of patients is unkown for any given file then the\n",
    "code must be changed to accommodate for a weighted average!\n",
    "'''\n",
    "\n",
    "print(\"mean is:\",'\\n--------\\n', alldatamean.mean(axis=0))\n",
    "print(\"\\nmax is:\",'\\n-------\\n', alldatamax.max(axis=0))\n",
    "print(\"\\nmin is:\",'\\n-------\\n', alldatamin.min(axis=0), '\\n\\n')"
   ]
  },
  {
   "cell_type": "code",
   "execution_count": 76,
   "metadata": {
    "collapsed": false
   },
   "outputs": [
    {
     "data": {
      "text/plain": [
       "(3, 40)"
      ]
     },
     "execution_count": 76,
     "metadata": {},
     "output_type": "execute_result"
    }
   ],
   "source": [
    "numpy.shape(alldatamean)"
   ]
  },
  {
   "cell_type": "code",
   "execution_count": 6,
   "metadata": {
    "collapsed": true
   },
   "outputs": [],
   "source": [
    "numpy.vstack??"
   ]
  },
  {
   "cell_type": "code",
   "execution_count": 3,
   "metadata": {
    "collapsed": false
   },
   "outputs": [
    {
     "name": "stdout",
     "output_type": "stream",
     "text": [
      "data/inflammation-07.csv\n",
      "after loadtxt\n",
      "after figsize\n",
      "output/inflammation-07.pdf\n",
      "data/inflammation-02.csv\n",
      "after loadtxt\n",
      "after figsize\n",
      "output/inflammation-02.pdf\n",
      "data/inflammation-05.csv\n",
      "after loadtxt\n",
      "after figsize\n",
      "output/inflammation-05.pdf\n"
     ]
    }
   ],
   "source": [
    "import os\n",
    "import numpy\n",
    "import matplotlib\n",
    "matplotlib.use('Agg')\n",
    "import glob\n",
    "import matplotlib.pyplot\n",
    "\n",
    "if not os.path.exists('output'):\n",
    "    os.makedirs('output')\n",
    "\n",
    "filenames = glob.glob('data/inflammation*.csv')\n",
    "filenames = filenames[0:3]\n",
    "for f in filenames:\n",
    "    print(f)\n",
    "    data = numpy.loadtxt(fname=f, delimiter=',')\n",
    "    print(\"after loadtxt\")\n",
    "    fig = matplotlib.pyplot.figure(figsize=(10.0 ,3.0))\n",
    "    print(\"after figsize\")\n",
    "\n",
    "    fig.suptitle(f)\n",
    "    #matplotlib.pyplot.title(f)\n",
    "    axes1 = fig.add_subplot(1, 3, 1)\n",
    "    axes2 = fig.add_subplot(1, 3, 2)\n",
    "    axes3 = fig.add_subplot(1, 3, 3)\n",
    "\n",
    "    axes1.set_ylabel('average')\n",
    "    axes1.plot(data.mean(axis=0))\n",
    "\n",
    "    axes2.set_ylabel('max')\n",
    "    axes2.plot(data.max(axis=0))\n",
    "\n",
    "    axes3.set_ylabel('min')\n",
    "    axes3.plot(data.min(axis=0))\n",
    "\n",
    "    # fig.tight_layout()\n",
    "    # matplotlib.pyplot.show()\n",
    "    outfile = 'output/'+f[5:20] +'.pdf'\n",
    "    print(outfile)\n",
    "    matplotlib.pyplot.savefig(outfile)"
   ]
  },
  {
   "cell_type": "code",
   "execution_count": null,
   "metadata": {
    "collapsed": true
   },
   "outputs": [],
   "source": []
  }
 ],
 "metadata": {
  "kernelspec": {
   "display_name": "Python 3",
   "language": "python",
   "name": "python3"
  },
  "language_info": {
   "codemirror_mode": {
    "name": "ipython",
    "version": 3
   },
   "file_extension": ".py",
   "mimetype": "text/x-python",
   "name": "python",
   "nbconvert_exporter": "python",
   "pygments_lexer": "ipython3",
   "version": "3.5.1"
  }
 },
 "nbformat": 4,
 "nbformat_minor": 0
}
